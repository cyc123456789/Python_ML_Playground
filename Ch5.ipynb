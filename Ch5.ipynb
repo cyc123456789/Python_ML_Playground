{
 "cells": [
  {
   "cell_type": "markdown",
   "metadata": {
    "collapsed": true,
    "pycharm": {
     "name": "#%% md\n"
    }
   },
   "source": [
    "## Feature Extraction\n"
   ]
  },
  {
   "cell_type": "code",
   "execution_count": 26,
   "outputs": [],
   "source": [
    "import pandas as pd\n",
    "df_wine = pd.read_csv('https://archive.ics.uci.edu/ml/'\n",
    "                      'machine-learning-databases/wine/wine.data'\n",
    "                      ,header=None)"
   ],
   "metadata": {
    "collapsed": false,
    "pycharm": {
     "name": "#%%\n"
    }
   }
  },
  {
   "cell_type": "code",
   "execution_count": 27,
   "outputs": [],
   "source": [
    "from sklearn.model_selection import train_test_split\n",
    "X, y = df_wine.iloc[:, 1:].values,df_wine.iloc[:, 0].values\n",
    "X_train,X_test,y_train,y_test = \\\n",
    "    train_test_split(X,y,test_size=0.3,stratify=y,random_state=0)\n",
    "# standardized the features\n",
    "from sklearn.preprocessing import StandardScaler\n",
    "sc = StandardScaler()\n",
    "X_train_std = sc.fit_transform(X_train)\n",
    "X_test_std=sc.fit_transform(X_test)"
   ],
   "metadata": {
    "collapsed": false,
    "pycharm": {
     "name": "#%%\n"
    }
   }
  },
  {
   "cell_type": "code",
   "execution_count": 28,
   "outputs": [
    {
     "name": "stdout",
     "output_type": "stream",
     "text": [
      "\n",
      "Eigenvalues \n",
      "[4.84274532 2.41602459 1.54845825 0.96120438 0.84166161 0.6620634\n",
      " 0.51828472 0.34650377 0.3131368  0.10754642 0.21357215 0.15362835\n",
      " 0.1808613 ]\n"
     ]
    }
   ],
   "source": [
    "import numpy as np\n",
    "cov_mat = np.cov(X_train_std.T)\n",
    "eigan_vals, eigan_vecs = np.linalg.eig(cov_mat)\n",
    "print('\\nEigenvalues \\n%s' % eigan_vals)"
   ],
   "metadata": {
    "collapsed": false,
    "pycharm": {
     "name": "#%%\n"
    }
   }
  },
  {
   "cell_type": "code",
   "execution_count": 29,
   "outputs": [
    {
     "data": {
      "text/plain": "<Figure size 432x288 with 1 Axes>",
      "image/png": "[encoded data removed]"
     },
     "metadata": {
      "needs_background": "light"
     },
     "output_type": "display_data"
    }
   ],
   "source": [
    "tot = sum(eigan_vals)\n",
    "var_exp=[(i/tot) for i in\n",
    "         sorted(eigan_vals,reverse=True)]\n",
    "cum_var_exp=np.cumsum(var_exp)\n",
    "import matplotlib.pyplot as plt\n",
    "plt.bar(range(1,14),var_exp,alpha=0.5,align='center',\n",
    "        label='individual explained variance')\n",
    "plt.step(range(1,14),cum_var_exp,where='mid',\n",
    "         label='cumulative explained variance')\n",
    "plt.ylabel('Explained variance ration')\n",
    "plt.xlabel('Principal component index')\n",
    "plt.legend(loc='best')\n",
    "plt.tight_layout()\n",
    "plt.show()"
   ],
   "metadata": {
    "collapsed": false,
    "pycharm": {
     "name": "#%%\n"
    }
   }
  },
  {
   "cell_type": "code",
   "execution_count": 30,
   "outputs": [],
   "source": [
    "eigan_pairs=[(np.abs(eigan_vals[i]),eigan_vecs[:,i])\n",
    "             for i in range(len(eigan_vals))]\n",
    "eigan_pairs.sort(key=lambda k: k[0],reverse=True)"
   ],
   "metadata": {
    "collapsed": false,
    "pycharm": {
     "name": "#%%\n"
    }
   }
  },
  {
   "cell_type": "code",
   "execution_count": 31,
   "outputs": [
    {
     "name": "stdout",
     "output_type": "stream",
     "text": [
      "Matrix W:\n",
      " [[-0.13724218 -0.50303478]\n",
      " [ 0.24724326 -0.16487119]\n",
      " [-0.02545159 -0.24456476]\n",
      " [ 0.20694508  0.11352904]\n",
      " [-0.15436582 -0.28974518]\n",
      " [-0.39376952 -0.05080104]\n",
      " [-0.41735106  0.02287338]\n",
      " [ 0.30572896 -0.09048885]\n",
      " [-0.30668347 -0.00835233]\n",
      " [ 0.07554066 -0.54977581]\n",
      " [-0.32613263  0.20716433]\n",
      " [-0.36861022  0.24902536]\n",
      " [-0.29669651 -0.38022942]]\n"
     ]
    }
   ],
   "source": [
    "w = np.hstack((eigan_pairs[0][1][:,np.newaxis],\n",
    "               eigan_pairs[1][1][:,np.newaxis]))\n",
    "print('Matrix W:\\n',w)"
   ],
   "metadata": {
    "collapsed": false,
    "pycharm": {
     "name": "#%%\n"
    }
   }
  },
  {
   "cell_type": "code",
   "execution_count": 32,
   "outputs": [
    {
     "data": {
      "text/plain": "array([ 2.38299011, -0.45458499])"
     },
     "execution_count": 32,
     "metadata": {},
     "output_type": "execute_result"
    }
   ],
   "source": [
    "X_train_std[0].dot(w)"
   ],
   "metadata": {
    "collapsed": false,
    "pycharm": {
     "name": "#%%\n"
    }
   }
  },
  {
   "cell_type": "code",
   "execution_count": 33,
   "outputs": [],
   "source": [
    "X_train_pca= X_train_std.dot(w)"
   ],
   "metadata": {
    "collapsed": false,
    "pycharm": {
     "name": "#%%\n"
    }
   }
  },
  {
   "cell_type": "code",
   "execution_count": 35,
   "outputs": [
    {
     "data": {
      "text/plain": "<Figure size 432x288 with 1 Axes>",
      "image/png": "[encoded data removed]"
     },
     "metadata": {
      "needs_background": "light"
     },
     "output_type": "display_data"
    }
   ],
   "source": [
    "colors = ['r','b','g']\n",
    "markers=['s','x','o']\n",
    "for l, c, m in zip(np.unique(y_train),colors,markers):\n",
    "    plt.scatter(X_train_pca[y_train==l,0],\n",
    "                X_train_pca[y_train==l,1],\n",
    "                c=c,label=1,marker=m)\n",
    "plt.xlabel('PC 1')\n",
    "plt.ylabel('PC 2')\n",
    "plt.legend(loc='lower left')\n",
    "plt.tight_layout()\n",
    "plt.show()"
   ],
   "metadata": {
    "collapsed": false,
    "pycharm": {
     "name": "#%%\n"
    }
   }
  },
  {
   "cell_type": "code",
   "execution_count": 43,
   "outputs": [],
   "source": [
    "from matplotlib.colors import ListedColormap\n",
    "def plot_decision_regions(X,y,classifier,test_idx=None,resolution=0.02):\n",
    "    \"\"\"\n",
    "\n",
    "    :param X:\n",
    "    :param y:\n",
    "    :param classifier:\n",
    "    :param test_idx:\n",
    "    :param resolution:\n",
    "    :return:\n",
    "    \"\"\"\n",
    "    # set up marker generator and color map\n",
    "    markers = ('s','x','o','^','v')\n",
    "    colors = ('red','blue','lightgreen','gray','cyan')\n",
    "    cmap = ListedColormap(colors[:len(np.unique(y))])\n",
    "\n",
    "    # plot the decision surface\n",
    "    x1_min,x1_max = X[:,0].min()-1,X[:,0].max()+1\n",
    "    x2_min,x2_max = X[:,1].min()-1,X[:,1].max()+1\n",
    "    xx1,xx2 = np.meshgrid(np.arange(x1_min,x1_max,resolution),\n",
    "                          np.arange(x2_min,x2_max,resolution))\n",
    "\n",
    "    Z = classifier.predict(np.array([xx1.ravel(),xx2.ravel()]).T)\n",
    "    Z = Z.reshape(xx1.shape)\n",
    "    plt.contourf(xx1,xx2,Z,alpha=0.3,cmap=cmap)\n",
    "    plt.xlim(xx1.min(),xx1.max())\n",
    "    plt.ylim(xx2.min(),xx2.max())\n",
    "\n",
    "    for idx,cl in enumerate(np.unique(y)):\n",
    "        plt.scatter(x=X[y==cl,0],y=X[y==cl,1],\n",
    "                    alpha=0.8,c=colors[idx],\n",
    "                    marker=markers[idx],label=cl,\n",
    "                    edgecolors='black')\n",
    "        # highlight test examples\n",
    "        if test_idx:\n",
    "            X_test,y_test = X[test_idx,:],y[test_idx]\n",
    "\n",
    "            plt.scatter(X_test[:,0],X_test[:,1],\n",
    "                        c='', edgecolors='black',alpha=1.0,\n",
    "                        linewidths=1,marker = 'o',\n",
    "                        s=100,label='test set')\n"
   ],
   "metadata": {
    "collapsed": false,
    "pycharm": {
     "name": "#%%\n"
    }
   }
  },
  {
   "cell_type": "code",
   "execution_count": 45,
   "outputs": [
    {
     "ename": "MemoryError",
     "evalue": "Unable to allocate 9.03 GiB for an array with shape (403861486, 3) and data type float64",
     "output_type": "error",
     "traceback": [
      "\u001B[1;31m---------------------------------------------------------------------------\u001B[0m",
      "\u001B[1;31mMemoryError\u001B[0m                               Traceback (most recent call last)",
      "\u001B[1;32m<ipython-input-45-a2ee6e364efd>\u001B[0m in \u001B[0;36m<module>\u001B[1;34m\u001B[0m\n\u001B[0;32m     11\u001B[0m \u001B[0mX_test_pca\u001B[0m \u001B[1;33m=\u001B[0m \u001B[0mpca\u001B[0m\u001B[1;33m.\u001B[0m\u001B[0mtransform\u001B[0m\u001B[1;33m(\u001B[0m\u001B[0mX_test\u001B[0m\u001B[1;33m)\u001B[0m\u001B[1;33m\u001B[0m\u001B[1;33m\u001B[0m\u001B[0m\n\u001B[0;32m     12\u001B[0m \u001B[0mlr\u001B[0m \u001B[1;33m=\u001B[0m \u001B[0mlr\u001B[0m\u001B[1;33m.\u001B[0m\u001B[0mfit\u001B[0m\u001B[1;33m(\u001B[0m\u001B[0mX_train_pca\u001B[0m\u001B[1;33m,\u001B[0m\u001B[0my_train\u001B[0m\u001B[1;33m)\u001B[0m\u001B[1;33m\u001B[0m\u001B[1;33m\u001B[0m\u001B[0m\n\u001B[1;32m---> 13\u001B[1;33m \u001B[0mplot_decision_regions\u001B[0m\u001B[1;33m(\u001B[0m\u001B[0mX_test_pca\u001B[0m\u001B[1;33m,\u001B[0m\u001B[0my_train\u001B[0m\u001B[1;33m,\u001B[0m\u001B[0mclassifier\u001B[0m\u001B[1;33m=\u001B[0m\u001B[0mlr\u001B[0m\u001B[1;33m)\u001B[0m\u001B[1;33m\u001B[0m\u001B[1;33m\u001B[0m\u001B[0m\n\u001B[0m\u001B[0;32m     14\u001B[0m \u001B[1;33m\u001B[0m\u001B[0m\n",
      "\u001B[1;32m<ipython-input-43-d19c09d49c2a>\u001B[0m in \u001B[0;36mplot_decision_regions\u001B[1;34m(X, y, classifier, test_idx, resolution)\u001B[0m\n\u001B[0;32m     21\u001B[0m                           np.arange(x2_min,x2_max,resolution))\n\u001B[0;32m     22\u001B[0m \u001B[1;33m\u001B[0m\u001B[0m\n\u001B[1;32m---> 23\u001B[1;33m     \u001B[0mZ\u001B[0m \u001B[1;33m=\u001B[0m \u001B[0mclassifier\u001B[0m\u001B[1;33m.\u001B[0m\u001B[0mpredict\u001B[0m\u001B[1;33m(\u001B[0m\u001B[0mnp\u001B[0m\u001B[1;33m.\u001B[0m\u001B[0marray\u001B[0m\u001B[1;33m(\u001B[0m\u001B[1;33m[\u001B[0m\u001B[0mxx1\u001B[0m\u001B[1;33m.\u001B[0m\u001B[0mravel\u001B[0m\u001B[1;33m(\u001B[0m\u001B[1;33m)\u001B[0m\u001B[1;33m,\u001B[0m\u001B[0mxx2\u001B[0m\u001B[1;33m.\u001B[0m\u001B[0mravel\u001B[0m\u001B[1;33m(\u001B[0m\u001B[1;33m)\u001B[0m\u001B[1;33m]\u001B[0m\u001B[1;33m)\u001B[0m\u001B[1;33m.\u001B[0m\u001B[0mT\u001B[0m\u001B[1;33m)\u001B[0m\u001B[1;33m\u001B[0m\u001B[1;33m\u001B[0m\u001B[0m\n\u001B[0m\u001B[0;32m     24\u001B[0m     \u001B[0mZ\u001B[0m \u001B[1;33m=\u001B[0m \u001B[0mZ\u001B[0m\u001B[1;33m.\u001B[0m\u001B[0mreshape\u001B[0m\u001B[1;33m(\u001B[0m\u001B[0mxx1\u001B[0m\u001B[1;33m.\u001B[0m\u001B[0mshape\u001B[0m\u001B[1;33m)\u001B[0m\u001B[1;33m\u001B[0m\u001B[1;33m\u001B[0m\u001B[0m\n\u001B[0;32m     25\u001B[0m     \u001B[0mplt\u001B[0m\u001B[1;33m.\u001B[0m\u001B[0mcontourf\u001B[0m\u001B[1;33m(\u001B[0m\u001B[0mxx1\u001B[0m\u001B[1;33m,\u001B[0m\u001B[0mxx2\u001B[0m\u001B[1;33m,\u001B[0m\u001B[0mZ\u001B[0m\u001B[1;33m,\u001B[0m\u001B[0malpha\u001B[0m\u001B[1;33m=\u001B[0m\u001B[1;36m0.3\u001B[0m\u001B[1;33m,\u001B[0m\u001B[0mcmap\u001B[0m\u001B[1;33m=\u001B[0m\u001B[0mcmap\u001B[0m\u001B[1;33m)\u001B[0m\u001B[1;33m\u001B[0m\u001B[1;33m\u001B[0m\u001B[0m\n",
      "\u001B[1;32m~\\.conda\\envs\\ML\\lib\\site-packages\\sklearn\\linear_model\\_base.py\u001B[0m in \u001B[0;36mpredict\u001B[1;34m(self, X)\u001B[0m\n\u001B[0;32m    305\u001B[0m             \u001B[0mPredicted\u001B[0m \u001B[1;32mclass\u001B[0m \u001B[0mlabel\u001B[0m \u001B[0mper\u001B[0m \u001B[0msample\u001B[0m\u001B[1;33m.\u001B[0m\u001B[1;33m\u001B[0m\u001B[1;33m\u001B[0m\u001B[0m\n\u001B[0;32m    306\u001B[0m         \"\"\"\n\u001B[1;32m--> 307\u001B[1;33m         \u001B[0mscores\u001B[0m \u001B[1;33m=\u001B[0m \u001B[0mself\u001B[0m\u001B[1;33m.\u001B[0m\u001B[0mdecision_function\u001B[0m\u001B[1;33m(\u001B[0m\u001B[0mX\u001B[0m\u001B[1;33m)\u001B[0m\u001B[1;33m\u001B[0m\u001B[1;33m\u001B[0m\u001B[0m\n\u001B[0m\u001B[0;32m    308\u001B[0m         \u001B[1;32mif\u001B[0m \u001B[0mlen\u001B[0m\u001B[1;33m(\u001B[0m\u001B[0mscores\u001B[0m\u001B[1;33m.\u001B[0m\u001B[0mshape\u001B[0m\u001B[1;33m)\u001B[0m \u001B[1;33m==\u001B[0m \u001B[1;36m1\u001B[0m\u001B[1;33m:\u001B[0m\u001B[1;33m\u001B[0m\u001B[1;33m\u001B[0m\u001B[0m\n\u001B[0;32m    309\u001B[0m             \u001B[0mindices\u001B[0m \u001B[1;33m=\u001B[0m \u001B[1;33m(\u001B[0m\u001B[0mscores\u001B[0m \u001B[1;33m>\u001B[0m \u001B[1;36m0\u001B[0m\u001B[1;33m)\u001B[0m\u001B[1;33m.\u001B[0m\u001B[0mastype\u001B[0m\u001B[1;33m(\u001B[0m\u001B[0mnp\u001B[0m\u001B[1;33m.\u001B[0m\u001B[0mint\u001B[0m\u001B[1;33m)\u001B[0m\u001B[1;33m\u001B[0m\u001B[1;33m\u001B[0m\u001B[0m\n",
      "\u001B[1;32m~\\.conda\\envs\\ML\\lib\\site-packages\\sklearn\\linear_model\\_base.py\u001B[0m in \u001B[0;36mdecision_function\u001B[1;34m(self, X)\u001B[0m\n\u001B[0;32m    287\u001B[0m                              % (X.shape[1], n_features))\n\u001B[0;32m    288\u001B[0m \u001B[1;33m\u001B[0m\u001B[0m\n\u001B[1;32m--> 289\u001B[1;33m         scores = safe_sparse_dot(X, self.coef_.T,\n\u001B[0m\u001B[0;32m    290\u001B[0m                                  dense_output=True) + self.intercept_\n\u001B[0;32m    291\u001B[0m         \u001B[1;32mreturn\u001B[0m \u001B[0mscores\u001B[0m\u001B[1;33m.\u001B[0m\u001B[0mravel\u001B[0m\u001B[1;33m(\u001B[0m\u001B[1;33m)\u001B[0m \u001B[1;32mif\u001B[0m \u001B[0mscores\u001B[0m\u001B[1;33m.\u001B[0m\u001B[0mshape\u001B[0m\u001B[1;33m[\u001B[0m\u001B[1;36m1\u001B[0m\u001B[1;33m]\u001B[0m \u001B[1;33m==\u001B[0m \u001B[1;36m1\u001B[0m \u001B[1;32melse\u001B[0m \u001B[0mscores\u001B[0m\u001B[1;33m\u001B[0m\u001B[1;33m\u001B[0m\u001B[0m\n",
      "\u001B[1;32m~\\.conda\\envs\\ML\\lib\\site-packages\\sklearn\\utils\\validation.py\u001B[0m in \u001B[0;36minner_f\u001B[1;34m(*args, **kwargs)\u001B[0m\n\u001B[0;32m     70\u001B[0m                           FutureWarning)\n\u001B[0;32m     71\u001B[0m         \u001B[0mkwargs\u001B[0m\u001B[1;33m.\u001B[0m\u001B[0mupdate\u001B[0m\u001B[1;33m(\u001B[0m\u001B[1;33m{\u001B[0m\u001B[0mk\u001B[0m\u001B[1;33m:\u001B[0m \u001B[0marg\u001B[0m \u001B[1;32mfor\u001B[0m \u001B[0mk\u001B[0m\u001B[1;33m,\u001B[0m \u001B[0marg\u001B[0m \u001B[1;32min\u001B[0m \u001B[0mzip\u001B[0m\u001B[1;33m(\u001B[0m\u001B[0msig\u001B[0m\u001B[1;33m.\u001B[0m\u001B[0mparameters\u001B[0m\u001B[1;33m,\u001B[0m \u001B[0margs\u001B[0m\u001B[1;33m)\u001B[0m\u001B[1;33m}\u001B[0m\u001B[1;33m)\u001B[0m\u001B[1;33m\u001B[0m\u001B[1;33m\u001B[0m\u001B[0m\n\u001B[1;32m---> 72\u001B[1;33m         \u001B[1;32mreturn\u001B[0m \u001B[0mf\u001B[0m\u001B[1;33m(\u001B[0m\u001B[1;33m**\u001B[0m\u001B[0mkwargs\u001B[0m\u001B[1;33m)\u001B[0m\u001B[1;33m\u001B[0m\u001B[1;33m\u001B[0m\u001B[0m\n\u001B[0m\u001B[0;32m     73\u001B[0m     \u001B[1;32mreturn\u001B[0m \u001B[0minner_f\u001B[0m\u001B[1;33m\u001B[0m\u001B[1;33m\u001B[0m\u001B[0m\n\u001B[0;32m     74\u001B[0m \u001B[1;33m\u001B[0m\u001B[0m\n",
      "\u001B[1;32m~\\.conda\\envs\\ML\\lib\\site-packages\\sklearn\\utils\\extmath.py\u001B[0m in \u001B[0;36msafe_sparse_dot\u001B[1;34m(a, b, dense_output)\u001B[0m\n\u001B[0;32m    151\u001B[0m             \u001B[0mret\u001B[0m \u001B[1;33m=\u001B[0m \u001B[0mnp\u001B[0m\u001B[1;33m.\u001B[0m\u001B[0mdot\u001B[0m\u001B[1;33m(\u001B[0m\u001B[0ma\u001B[0m\u001B[1;33m,\u001B[0m \u001B[0mb\u001B[0m\u001B[1;33m)\u001B[0m\u001B[1;33m\u001B[0m\u001B[1;33m\u001B[0m\u001B[0m\n\u001B[0;32m    152\u001B[0m     \u001B[1;32melse\u001B[0m\u001B[1;33m:\u001B[0m\u001B[1;33m\u001B[0m\u001B[1;33m\u001B[0m\u001B[0m\n\u001B[1;32m--> 153\u001B[1;33m         \u001B[0mret\u001B[0m \u001B[1;33m=\u001B[0m \u001B[0ma\u001B[0m \u001B[1;33m@\u001B[0m \u001B[0mb\u001B[0m\u001B[1;33m\u001B[0m\u001B[1;33m\u001B[0m\u001B[0m\n\u001B[0m\u001B[0;32m    154\u001B[0m \u001B[1;33m\u001B[0m\u001B[0m\n\u001B[0;32m    155\u001B[0m     if (sparse.issparse(a) and sparse.issparse(b)\n",
      "\u001B[1;31mMemoryError\u001B[0m: Unable to allocate 9.03 GiB for an array with shape (403861486, 3) and data type float64"
     ]
    }
   ],
   "source": [
    "from sklearn.linear_model import LogisticRegression\n",
    "from sklearn.decomposition import PCA\n",
    "# initializing the PCA transformer and\n",
    "# logistic regression estimator:\n",
    "pca = PCA(n_components=2)\n",
    "lr = LogisticRegression(multi_class='ovr',\n",
    "                        random_state=1,\n",
    "                        solver='lbfgs')\n",
    "# Dimensionality reduction:\n",
    "X_train_pca = pca.fit_transform(X_train_std)\n",
    "X_test_pca = pca.transform(X_test)\n",
    "lr = lr.fit(X_train_pca,y_train)\n",
    "plot_decision_regions(X_test_pca,y_train,classifier=lr)"
   ],
   "metadata": {
    "collapsed": false,
    "pycharm": {
     "name": "#%%\n"
    }
   }
  },
  {
   "cell_type": "code",
   "execution_count": null,
   "outputs": [],
   "source": [],
   "metadata": {
    "collapsed": false,
    "pycharm": {
     "name": "#%%\n"
    }
   }
  }
 ],
 "metadata": {
  "kernelspec": {
   "display_name": "Python 3",
   "language": "python",
   "name": "python3"
  },
  "language_info": {
   "codemirror_mode": {
    "name": "ipython",
    "version": 2
   },
   "file_extension": ".py",
   "mimetype": "text/x-python",
   "name": "python",
   "nbconvert_exporter": "python",
   "pygments_lexer": "ipython2",
   "version": "2.7.6"
  }
 },
 "nbformat": 4,
 "nbformat_minor": 0
}