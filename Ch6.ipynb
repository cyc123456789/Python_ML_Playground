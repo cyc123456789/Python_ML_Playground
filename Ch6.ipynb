{
 "cells": [
  {
   "cell_type": "code",
   "execution_count": 1,
   "metadata": {},
   "outputs": [],
   "source": [
    "import pandas as pd\n",
    "df = pd.read_csv('https://archive.ics.uci.edu/ml/'\n",
    "                 'machine-learning-databases/'\n",
    "                 'breast-cancer-wisconsin/wdbc.data',header=None)"
   ]
  },
  {
   "cell_type": "code",
   "execution_count": 2,
   "metadata": {
    "pycharm": {
     "is_executing": true,
     "name": "#%%\n"
    }
   },
   "outputs": [
    {
     "data": {
      "text/plain": [
       "array(['B', 'M'], dtype=object)"
      ]
     },
     "execution_count": 2,
     "metadata": {},
     "output_type": "execute_result"
    }
   ],
   "source": [
    "from sklearn.preprocessing import LabelEncoder\n",
    "X= df.loc[:,2:].values\n",
    "y= df.loc[:,1].values\n",
    "le = LabelEncoder()\n",
    "y = le.fit_transform(y)\n",
    "le.classes_"
   ]
  },
  {
   "cell_type": "code",
   "execution_count": 3,
   "metadata": {
    "pycharm": {
     "is_executing": true,
     "name": "#%%\n"
    }
   },
   "outputs": [
    {
     "data": {
      "text/plain": [
       "array([1, 0], dtype=int64)"
      ]
     },
     "execution_count": 3,
     "metadata": {},
     "output_type": "execute_result"
    }
   ],
   "source": [
    "le.transform(['M','B'])"
   ]
  },
  {
   "cell_type": "code",
   "execution_count": 4,
   "metadata": {
    "pycharm": {
     "is_executing": true,
     "name": "#%%\n"
    }
   },
   "outputs": [],
   "source": [
    "from sklearn.model_selection import train_test_split\n",
    "X_train,X_test,y_train,y_test = \\\n",
    "    train_test_split(X,y,\n",
    "                 test_size=0.20,\n",
    "                 stratify=y,\n",
    "                 random_state=1)"
   ]
  },
  {
   "cell_type": "code",
   "execution_count": 5,
   "metadata": {
    "pycharm": {
     "is_executing": true,
     "name": "#%%\n"
    }
   },
   "outputs": [
    {
     "name": "stdout",
     "output_type": "stream",
     "text": [
      "Test Accuracy: 0.956\n"
     ]
    }
   ],
   "source": [
    "from sklearn.preprocessing import StandardScaler\n",
    "from sklearn.decomposition import PCA\n",
    "from sklearn.linear_model import LogisticRegression\n",
    "from sklearn.pipeline import make_pipeline\n",
    "pipe_lr = make_pipeline(StandardScaler(),\n",
    "                        PCA(n_components=2),\n",
    "                        LogisticRegression(random_state=1,solver='lbfgs'))\n",
    "pipe_lr.fit(X_train,y_train)\n",
    "y_pred= pipe_lr.predict(X_test)\n",
    "print('Test Accuracy: %.3f' % pipe_lr.score(X_test,y_test))"
   ]
  },
  {
   "cell_type": "code",
   "execution_count": 6,
   "metadata": {
    "pycharm": {
     "is_executing": true,
     "name": "#%%\n"
    }
   },
   "outputs": [
    {
     "name": "stdout",
     "output_type": "stream",
     "text": [
      "Fold:  1, Class disr.: [256 153], Acc: 0.935\n",
      "Fold:  2, Class disr.: [256 153], Acc: 0.935\n",
      "Fold:  3, Class disr.: [256 153], Acc: 0.957\n",
      "Fold:  4, Class disr.: [256 153], Acc: 0.957\n",
      "Fold:  5, Class disr.: [256 153], Acc: 0.935\n",
      "Fold:  6, Class disr.: [257 153], Acc: 0.956\n",
      "Fold:  7, Class disr.: [257 153], Acc: 0.978\n",
      "Fold:  8, Class disr.: [257 153], Acc: 0.933\n",
      "Fold:  9, Class disr.: [257 153], Acc: 0.956\n",
      "Fold: 10, Class disr.: [257 153], Acc: 0.956\n"
     ]
    }
   ],
   "source": [
    "import numpy as np\n",
    "from sklearn.model_selection import  StratifiedKFold\n",
    "kfold = StratifiedKFold(n_splits=10).split(X_train,y_train)\n",
    "scores= []\n",
    "for k ,(train,test)in enumerate(kfold):\n",
    "    pipe_lr.fit(X_train[train],y_train[train])\n",
    "    score = pipe_lr.score(X_train[test],y_train[test])\n",
    "    scores.append(score)\n",
    "    print('Fold: %2d, Class disr.: %s, Acc: %.3f'%(k+1,\n",
    "                                                   np.bincount(y_train[train]),score))\n"
   ]
  },
  {
   "cell_type": "code",
   "execution_count": 7,
   "metadata": {
    "pycharm": {
     "is_executing": true,
     "name": "#%%\n"
    }
   },
   "outputs": [
    {
     "name": "stdout",
     "output_type": "stream",
     "text": [
      "\n",
      "CV accuray: 0.950 +/- 0.014\n"
     ]
    }
   ],
   "source": [
    "print('\\nCV accuray: %.3f +/- %.3f'%(np.mean(scores),np.std(scores)))\n"
   ]
  },
  {
   "cell_type": "code",
   "execution_count": 8,
   "metadata": {
    "pycharm": {
     "is_executing": true,
     "name": "#%%\n"
    }
   },
   "outputs": [
    {
     "name": "stdout",
     "output_type": "stream",
     "text": [
      "\n",
      "CV accuray: 0.950 +/- 0.014\n"
     ]
    }
   ],
   "source": [
    "from sklearn.model_selection import cross_val_score\n",
    "scores = cross_val_score(estimator=pipe_lr,\n",
    "                         X=X_train,\n",
    "                         y=y_train,\n",
    "                         cv=10,\n",
    "                         n_jobs=-1)\n",
    "print('\\nCV accuray: %.3f +/- %.3f'%(np.mean(scores),np.std(scores)))"
   ]
  },
  {
   "cell_type": "code",
   "execution_count": 9,
   "metadata": {
    "pycharm": {
     "is_executing": true,
     "name": "#%%\n"
    }
   },
   "outputs": [],
   "source": [
    "import matplotlib.pyplot as plt\n",
    "from sklearn.model_selection import learning_curve\n",
    "\n",
    "pipe_lr = make_pipeline(StandardScaler(),\n",
    "                        PCA(n_components=2),\n",
    "                        LogisticRegression(penalty='l2',\n",
    "                                           random_state=1,\n",
    "                                           solver='lbfgs',\n",
    "                                           max_iter=10000))"
   ]
  },
  {
   "cell_type": "code",
   "execution_count": 10,
   "metadata": {
    "pycharm": {
     "is_executing": true,
     "name": "#%%\n"
    }
   },
   "outputs": [],
   "source": [
    "train_sizes,train_scores,test_scores=\\\n",
    "    learning_curve(estimator=pipe_lr,\n",
    "                   X=X_train,\n",
    "                   y=y_train,\n",
    "                   train_sizes=np.linspace(0.1,1.0,10),\n",
    "                   cv=10,\n",
    "                   n_jobs=-1)"
   ]
  },
  {
   "cell_type": "code",
   "execution_count": 11,
   "metadata": {
    "pycharm": {
     "is_executing": true,
     "name": "#%%\n"
    }
   },
   "outputs": [
    {
     "data": {
      "image/png": "[encoded data removed]",
      "text/plain": [
       "<Figure size 432x288 with 1 Axes>"
      ]
     },
     "metadata": {
      "needs_background": "light"
     },
     "output_type": "display_data"
    }
   ],
   "source": [
    "train_mean=np.mean(train_scores,axis=1)\n",
    "train_std=np.std(train_scores,axis=1)\n",
    "\n",
    "test_mean=np.mean(test_scores,axis=1)\n",
    "test_std=np.std(test_scores,axis=1)\n",
    "plt.plot(train_sizes,train_mean,\n",
    "         color='blue',marker='o',\n",
    "         markersize=5,label='Train accuracy')\n",
    "plt.fill_between(train_sizes,\n",
    "                 train_mean+train_std,\n",
    "                 train_mean-train_std,\n",
    "                 alpha=0.15,color='blue')\n",
    "plt.plot(train_sizes,test_mean,\n",
    "         color='green',linestyle='--',\n",
    "         marker='s',markersize=5,\n",
    "         label='Validation accuracy')\n",
    "plt.fill_between(train_sizes,\n",
    "                 test_mean+test_std,\n",
    "                 test_mean-test_std,\n",
    "                 alpha=0.15,color='green')\n",
    "plt.grid()\n",
    "plt.xlabel('Number of training examples')\n",
    "plt.ylabel('Accuracy')\n",
    "plt.legend(loc='lower right')\n",
    "plt.ylim([0.8,1.03])\n",
    "plt.show()"
   ]
  },
  {
   "cell_type": "code",
   "execution_count": 12,
   "metadata": {
    "pycharm": {
     "is_executing": true,
     "name": "#%%\n"
    }
   },
   "outputs": [
    {
     "data": {
      "text/plain": [
       "(0.8, 1.0)"
      ]
     },
     "execution_count": 12,
     "metadata": {},
     "output_type": "execute_result"
    },
    {
     "data": {
      "image/png": "[encoded data removed]",
      "text/plain": [
       "<Figure size 432x288 with 1 Axes>"
      ]
     },
     "metadata": {
      "needs_background": "light"
     },
     "output_type": "display_data"
    }
   ],
   "source": [
    "from sklearn.model_selection import validation_curve\n",
    "param_range = [0.001,0.01,0.1,1.0,10.0,100.0]\n",
    "train_scores, test_scores = validation_curve(\n",
    "    estimator=pipe_lr,\n",
    "    X=X_train,\n",
    "    y=y_train,\n",
    "    param_name='logisticregression__C',\n",
    "    param_range=param_range,\n",
    "    cv=10\n",
    ")\n",
    "train_mean=np.mean(train_scores,axis=1)\n",
    "train_std=np.std(train_scores,axis=1)\n",
    "test_mean=np.mean(test_scores,axis=1)\n",
    "test_std=np.std(test_scores,axis=1)\n",
    "plt.plot(param_range,train_mean,\n",
    "         color='blue',marker='o',\n",
    "         markersize=5,label='training accuracy')\n",
    "plt.fill_between(param_range,\n",
    "                 train_mean+train_std,\n",
    "                 train_mean-train_std,alpha=0.15,\n",
    "                 color='blue')\n",
    "plt.plot(param_range,test_mean,\n",
    "         color='green',linestyle='--',marker='o',\n",
    "         markersize=5,label='validation accuracy')\n",
    "plt.fill_between(param_range,\n",
    "                 test_mean+test_std,\n",
    "                 test_mean-test_std,alpha=0.15,\n",
    "                 color='green')\n",
    "plt.grid()\n",
    "plt.xscale('log')\n",
    "plt.legend('lower right')\n",
    "plt.xlabel('Parameter C')\n",
    "plt.ylabel('Accuracy')\n",
    "plt.ylim([0.8,1.0])"
   ]
  },
  {
   "cell_type": "code",
   "execution_count": 13,
   "metadata": {
    "pycharm": {
     "is_executing": true,
     "name": "#%%\n"
    }
   },
   "outputs": [
    {
     "name": "stdout",
     "output_type": "stream",
     "text": [
      "0.9846859903381642\n",
      "{'svc__C': 100.0, 'svc__gamma': 0.001, 'svc__kernel': 'rbf'}\n"
     ]
    }
   ],
   "source": [
    "from sklearn.model_selection import GridSearchCV\n",
    "from sklearn.svm import SVC\n",
    "\n",
    "pipe_svc = make_pipeline(StandardScaler(),\n",
    "                         SVC(random_state=1))\n",
    "\n",
    "param_range = [0.0001,0.001,0.01,0.1,\n",
    "               1.0,10.0,100.0,1000.0]\n",
    "\n",
    "param_grid = [{'svc__C':param_range,\n",
    "               'svc__kernel':['linear']},\n",
    "              {'svc__C':param_range,\n",
    "               'svc__gamma':param_range,\n",
    "               'svc__kernel':['rbf']}]\n",
    "gs = GridSearchCV(estimator=pipe_svc,\n",
    "                  param_grid=param_grid,\n",
    "                  scoring='accuracy',\n",
    "                  cv=10,\n",
    "                  n_jobs=-1)\n",
    "gs = gs.fit(X_train,y_train)\n",
    "print(gs.best_score_)\n",
    "print(gs.best_params_)"
   ]
  },
  {
   "cell_type": "code",
   "execution_count": 14,
   "metadata": {
    "pycharm": {
     "is_executing": true,
     "name": "#%%\n"
    }
   },
   "outputs": [
    {
     "name": "stdout",
     "output_type": "stream",
     "text": [
      "0.9736842105263158\n"
     ]
    }
   ],
   "source": [
    "clf=gs.best_estimator_\n",
    "clf.fit(X_train,y_train)\n",
    "print(clf.score(X_test,y_test))\n"
   ]
  },
  {
   "cell_type": "code",
   "execution_count": 15,
   "metadata": {
    "pycharm": {
     "is_executing": true,
     "name": "#%%\n"
    }
   },
   "outputs": [
    {
     "name": "stdout",
     "output_type": "stream",
     "text": [
      "CV accuracy: 0.974 +/- 0.015\n"
     ]
    }
   ],
   "source": [
    "gs = GridSearchCV(estimator=pipe_svc,\n",
    "                  param_grid=param_grid,\n",
    "                  scoring='accuracy',\n",
    "                  cv=2)\n",
    "\n",
    "scores = cross_val_score(gs,X_train,y_train,\n",
    "                         scoring='accuracy',cv=5)\n",
    "print('CV accuracy: %.3f +/- %.3f'%(np.mean(scores),\n",
    "                                    np.std(scores)))"
   ]
  },
  {
   "cell_type": "code",
   "execution_count": 16,
   "metadata": {
    "pycharm": {
     "name": "#%%\n"
    }
   },
   "outputs": [
    {
     "name": "stdout",
     "output_type": "stream",
     "text": [
      "[[71  1]\n",
      " [ 2 40]]\n"
     ]
    }
   ],
   "source": [
    "from sklearn.metrics import confusion_matrix\n",
    "\n",
    "pipe_svc.fit(X_train,y_train)\n",
    "y_pred = pipe_svc.predict(X_test)\n",
    "confmat = confusion_matrix(y_true=y_test,y_pred=y_pred)\n",
    "print(confmat)"
   ]
  },
  {
   "cell_type": "code",
   "execution_count": 17,
   "metadata": {
    "pycharm": {
     "name": "#%%\n"
    }
   },
   "outputs": [
    {
     "data": {
      "image/png": "[encoded data removed]",
      "text/plain": [
       "<Figure size 180x180 with 1 Axes>"
      ]
     },
     "metadata": {
      "needs_background": "light"
     },
     "output_type": "display_data"
    }
   ],
   "source": [
    "fig, ax = plt.subplots(figsize=(2.5,2.5))\n",
    "ax.matshow(confmat,cmap=plt.cm.Blues,alpha=0.3)\n",
    "for i in range(confmat.shape[0]):\n",
    "    for j in range(confmat.shape[1]):\n",
    "        ax.text(x=j,y=i,\n",
    "                s=confmat[i,j],\n",
    "                va='center',ha='center')\n",
    "plt.xlabel('predict label')\n",
    "plt.ylabel('true label')\n",
    "plt.show()"
   ]
  },
  {
   "cell_type": "code",
   "execution_count": 18,
   "metadata": {
    "pycharm": {
     "name": "#%%\n"
    }
   },
   "outputs": [
    {
     "name": "stdout",
     "output_type": "stream",
     "text": [
      "Precision: 0.976\n",
      "Recall: 0.952\n",
      "F1: 0.964\n"
     ]
    }
   ],
   "source": [
    "from sklearn.metrics import precision_score\n",
    "from sklearn.metrics import recall_score, f1_score\n",
    "\n",
    "print('Precision: %.3f' % precision_score(\n",
    "    y_true=y_test,y_pred=y_pred))\n",
    "print('Recall: %.3f'% recall_score(\n",
    "    y_true=y_test,y_pred=y_pred))\n",
    "print('F1: %.3f'%f1_score(\n",
    "    y_true=y_test,y_pred=y_pred))\n"
   ]
  },
  {
   "cell_type": "code",
   "execution_count": 19,
   "metadata": {
    "pycharm": {
     "name": "#%%\n"
    }
   },
   "outputs": [
    {
     "name": "stdout",
     "output_type": "stream",
     "text": [
      "0.9861994953378878\n",
      "{'svc__C': 10.0, 'svc__gamma': 0.01, 'svc__kernel': 'rbf'}\n"
     ]
    }
   ],
   "source": [
    "from sklearn.metrics import make_scorer\n",
    "c_gamma_range=[0.01,0.1,1.0,10.0]\n",
    "param_grid = [{'svc__C':c_gamma_range,\n",
    "               'svc__kernel':['linear']},\n",
    "              {'svc__C':c_gamma_range,\n",
    "               'svc__gamma':c_gamma_range,\n",
    "               'svc__kernel':['rbf']}]\n",
    "scorer = make_scorer(f1_score,pos_label=0)\n",
    "gs = GridSearchCV(estimator=pipe_svc,\n",
    "                  param_grid=param_grid,\n",
    "                  scoring=scorer,\n",
    "                  cv=10)\n",
    "gs = gs.fit(X_train,y_train)\n",
    "print(gs.best_score_)\n",
    "print(gs.best_params_)"
   ]
  },
  {
   "cell_type": "code",
   "execution_count": 20,
   "metadata": {
    "pycharm": {
     "name": "#%%\n"
    }
   },
   "outputs": [],
   "source": [
    "from sklearn.metrics import roc_curve,auc\n",
    "from scipy import interp\n",
    "pipe_lr = make_pipeline(StandardScaler(),\n",
    "                        PCA(n_components=2),\n",
    "                        LogisticRegression(penalty='l2',\n",
    "                                           random_state=1,\n",
    "                                           solver='lbfgs',C=100.0))\n"
   ]
  },
  {
   "cell_type": "code",
   "execution_count": 21,
   "metadata": {
    "pycharm": {
     "name": "#%%\n"
    }
   },
   "outputs": [
    {
     "name": "stderr",
     "output_type": "stream",
     "text": [
      "C:\\Users\\charles\\.conda\\envs\\ML\\lib\\site-packages\\sklearn\\model_selection\\_split.py:293: FutureWarning: Setting a random_state has no effect since shuffle is False. This will raise an error in 0.24. You should leave random_state to its default (None), or set shuffle=True.\n",
      "  warnings.warn(\n",
      "<ipython-input-21-c488e153211d>:16: DeprecationWarning: scipy.interp is deprecated and will be removed in SciPy 2.0.0, use numpy.interp instead\n",
      "  mean_tpr += interp(mean_fpr,fpr,tpr)\n",
      "<ipython-input-21-c488e153211d>:16: DeprecationWarning: scipy.interp is deprecated and will be removed in SciPy 2.0.0, use numpy.interp instead\n",
      "  mean_tpr += interp(mean_fpr,fpr,tpr)\n",
      "<ipython-input-21-c488e153211d>:16: DeprecationWarning: scipy.interp is deprecated and will be removed in SciPy 2.0.0, use numpy.interp instead\n",
      "  mean_tpr += interp(mean_fpr,fpr,tpr)\n"
     ]
    },
    {
     "data": {
      "image/png": "[encoded data removed]",
      "text/plain": [
       "<Figure size 504x360 with 1 Axes>"
      ]
     },
     "metadata": {
      "needs_background": "light"
     },
     "output_type": "display_data"
    }
   ],
   "source": [
    "X_train2 = X_train[:,[4,14]]\n",
    "cv = list(StratifiedKFold(n_splits=3,\n",
    "                          random_state=1).split(X_train,\n",
    "                                                y_train))\n",
    "fig = plt.figure(figsize=(7,5))\n",
    "\n",
    "mean_tpr = 0.0\n",
    "mean_fpr = np.linspace(0,1,100)\n",
    "all_tpr = []\n",
    "for i ,(train,test) in enumerate(cv):\n",
    "    probas = pipe_lr.fit(X_train2[train],\n",
    "                         y_train[train]).predict_proba(X_train2[test])\n",
    "    fpr,tpr,threshold = roc_curve(y_train[test],\n",
    "                                  probas[:,1],\n",
    "                                  pos_label=1)\n",
    "    mean_tpr += interp(mean_fpr,fpr,tpr)\n",
    "    mean_tpr[0]=0.0\n",
    "    roc_auc = auc(fpr,tpr)\n",
    "    plt.plot(fpr,\n",
    "             tpr,\n",
    "             label='ROC fold % d(area=%0.2f)'\n",
    "             % (i+1,roc_auc))\n",
    "plt.plot([0,1],\n",
    "         [0,1],\n",
    "         linestyle='--',\n",
    "         color=(0.6,0.6,0.6),\n",
    "         label='random guessing')\n",
    "mean_tpr/=len(cv)\n",
    "mean_tpr[-1]=1.0\n",
    "mean_auc = auc(mean_fpr,mean_tpr)\n",
    "plt.plot(mean_fpr,mean_tpr,'k--',\n",
    "         label='mean ROC(area = %0.2f)'% mean_auc,lw=2)\n",
    "plt.plot([0,0,1],\n",
    "         [0,1,1],\n",
    "         linestyle=':',\n",
    "         color='black',\n",
    "         label = 'perfect performance')\n",
    "plt.xlim([-0.05,1.05])\n",
    "plt.ylim([-0.05,1.05])\n",
    "plt.xlabel('false positive rate')\n",
    "plt.ylabel('true positive rate')\n",
    "plt.legend(loc='lower right')\n",
    "plt.show()"
   ]
  },
  {
   "cell_type": "code",
   "execution_count": null,
   "metadata": {
    "pycharm": {
     "name": "#%%\n"
    }
   },
   "outputs": [],
   "source": []
  }
 ],
 "metadata": {
  "kernelspec": {
   "display_name": "Python 3",
   "language": "python",
   "name": "python3"
  },
  "language_info": {
   "codemirror_mode": {
    "name": "ipython",
    "version": 3
   },
   "file_extension": ".py",
   "mimetype": "text/x-python",
   "name": "python",
   "nbconvert_exporter": "python",
   "pygments_lexer": "ipython3",
   "version": "3.8.5"
  }
 },
 "nbformat": 4,
 "nbformat_minor": 1
}